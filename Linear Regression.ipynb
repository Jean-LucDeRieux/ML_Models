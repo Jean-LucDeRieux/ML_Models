{
 "cells": [
  {
   "cell_type": "markdown",
   "metadata": {},
   "source": [
    "# Linear Regression (Mean Squared Error)#\n",
    "\n",
    "## Model ##\n",
    "$f_{\\vec{\\omega}\\ ,b}\\left(\\vec{x}\\right)=\\vec{\\omega}\\cdot\\vec{x}+b$\n",
    "## Cost / Loss Functions ##\n",
    "$J(\\vec{\\omega},b) = \\frac{1}{2m} \\sum_{i=1}^{m} \\left[f_{\\vec{\\omega},b}(\\vec{x}^{(i)}) - y^{(i)}\\right]^2$\n",
    "\n",
    "Alternatively,\n",
    "\n",
    "$J(\\vec{\\omega},b) = \\frac{1}{m} \\sum_{i=1}^{m} \\left[f_{\\vec{\\omega},b}(\\vec{x}^{(i)}) - y^{(i)}\\right]^2$\n",
    "\n",
    "## Gradient ##\n",
    "$\\frac{\\partial J\\left(\\vec{\\omega},b\\right)}{\\partial\\omega}=\\frac{1}{m}\\sum_{i=0}^{m-1}\\left[\\left(f_{\\vec{\\omega},b}\\left({\\vec{x}}^{\\left(i\\right)}\\right)-y^{\\left(i\\right)}\\right){\\vec{x}}^{\\left(i\\right)}\\right]$\n",
    "\n",
    "$\\frac{\\partial J\\left(\\vec{\\omega},b\\right)}{\\partial b}=\\frac{1}{m}\\sum_{i=0}^{m-1}\\left[f_{\\vec{\\omega},b}\\left({\\vec{x}}^{\\left(i\\right)}\\right)-y^{\\left(i\\right)}\\right]$\n",
    "\n",
    "Alternatively,\n",
    "\n",
    "$\\frac{\\partial J\\left(\\vec{\\omega},b\\right)}{\\partial\\omega}=\\frac{2}{m}\\sum_{i=0}^{m-1}\\left[\\left(f_{\\vec{\\omega},b}\\left({\\vec{x}}^{\\left(i\\right)}\\right)-y^{\\left(i\\right)}\\right){\\vec{x}}^{\\left(i\\right)}\\right]$\n",
    "\n",
    "$\\frac{\\partial J\\left(\\vec{\\omega},b\\right)}{\\partial b}=\\frac{2}{m}\\sum_{i=0}^{m-1}\\left[f_{\\vec{\\omega},b}\\left({\\vec{x}}^{\\left(i\\right)}\\right)-y^{\\left(i\\right)}\\right]$\n",
    "\n",
    "## Gradient Descent ##\n",
    "$\\vec{\\omega}'=\\vec{\\omega}-\\alpha\\frac{\\partial J\\left(\\omega,b\\right)}{\\partial\\omega}$\n",
    "\n",
    "$b'=b-\\alpha\\frac{\\partial J(\\omega,b)}{\\partial b}$\n",
    "\n",
    "Alternatively notation,\n",
    "\n",
    "$\\vec{\\omega}:=\\vec{\\omega}-\\alpha\\frac{\\partial J\\left(\\omega,b\\right)}{\\partial\\omega}$\n",
    "\n",
    "$b:= b-\\alpha\\frac{\\partial J(\\omega,b)}{\\partial b}$\n",
    "\n",
    "## Regularized Linear Regression ##\n",
    "$\\frac{\\partial J\\left(\\vec{\\omega},b\\right)}{\\partial\\omega}=\\frac{1}{m}\\sum_{i=0}^{m-1}{\\left[\\left(f_{\\vec{\\omega},b}\\left({\\vec{x}}^{\\left(i\\right)}\\right)-y^{\\left(i\\right)}\\right){\\vec{x}}^{\\left(i\\right)}\\right]+\\frac{\\lambda}{m}\\vec{\\omega}}$\n",
    "\n",
    "$\\frac{\\lambda}{2m}\\sum_{j=0}^{n-1}{[\\vec{\\omega _ j}]}^2$\n",
    "# Misc #\n",
    "Feature Mapping"
   ]
  },
  {
   "cell_type": "code",
   "execution_count": null,
   "metadata": {},
   "outputs": [],
   "source": []
  }
 ],
 "metadata": {
  "kernelspec": {
   "display_name": "Python 3",
   "language": "python",
   "name": "python3"
  },
  "language_info": {
   "codemirror_mode": {
    "name": "ipython",
    "version": 3
   },
   "file_extension": ".py",
   "mimetype": "text/x-python",
   "name": "python",
   "nbconvert_exporter": "python",
   "pygments_lexer": "ipython3",
   "version": "3.11.4"
  }
 },
 "nbformat": 4,
 "nbformat_minor": 2
}
