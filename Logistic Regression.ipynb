{
 "cells": [
  {
   "cell_type": "markdown",
   "metadata": {},
   "source": [
    "# Logistic Regression (Binary Cross Entropy) #\n",
    "\n",
    "## Model ##\n",
    "$g\\left(z\\right)=\\frac{1}{1+e^{-z}}$\n",
    "\n",
    "$f_{\\vec{\\omega}\\ ,b}\\left(\\vec{x}\\right)=g\\left(\\vec{\\omega}\\cdot\\vec{x}+b\\right)=\\frac{1}{1+e^{-\\left(\\vec{\\omega}\\cdot\\vec{x}+b\\right)}}$\n",
    "\n",
    "## Cost / Loss Functions ##\n",
    "$loss\\left(f_{\\vec{\\omega},b}\\left(x^{\\left(i\\right)}\\right),y^{\\left(i\\right)}\\right)=-y^{\\left(i\\right)}\\log{\\left(f_{\\vec{\\omega},b}\\left({\\vec{x}}^{\\left(i\\right)}\\right)\\right)}-\\left(1-y^{\\left(i\\right)}\\right)\\log{\\left(1-f_{\\vec{\\omega},b}\\left({\\vec{x}}^{\\left(i\\right)}\\right)\\right)}$\n",
    "\n",
    "$J\\left(\\vec{\\omega},b\\right)=\\frac{1}{m}\\sum_{i=0}^{m-1}\\left[loss\\left(f_{\\vec{\\omega},b}\\left({\\vec{x}}^{\\left(i\\right)}\\right),y^{\\left(i\\right)}\\right)\\right]$\n",
    "\n",
    "## Gradient ##\n",
    "$\\frac{\\partial J\\left(\\vec{\\omega},b\\right)}{\\partial\\omega}=\\frac{1}{m}\\sum_{i=0}^{m-1}\\left[\\left(f_{\\vec{\\omega},b}\\left({\\vec{x}}^{\\left(i\\right)}\\right)-y^{\\left(i\\right)}\\right){\\vec{x}}^{\\left(i\\right)}\\right]$\n",
    "\n",
    "$\\frac{\\partial J\\left(\\vec{\\omega},b\\right)}{\\partial b}=\\frac{1}{m}\\sum_{i=0}^{m-1}\\left[f_{\\vec{\\omega},b}\\left({\\vec{x}}^{\\left(i\\right)}\\right)-y^{\\left(i\\right)}\\right]$\n",
    "\n",
    "## Gradient Descent ##\n",
    "$\\vec{\\omega}'=\\vec{\\omega}-\\alpha\\frac{\\partial J\\left(\\omega,b\\right)}{\\partial\\omega}$\n",
    "\n",
    "$b'=b-\\alpha\\frac{\\partial J(\\omega,b)}{\\partial b}$\n",
    "\n",
    "Alternatively notation,\n",
    "\n",
    "$\\vec{\\omega}:=\\vec{\\omega}-\\alpha\\frac{\\partial J\\left(\\omega,b\\right)}{\\partial\\omega}$\n",
    "\n",
    "$b:= b-\\alpha\\frac{\\partial J(\\omega,b)}{\\partial b}$\n",
    "\n",
    "## Regularized Linear Regression ##\n",
    "$\\frac{\\partial J\\left(\\vec{\\omega},b\\right)}{\\partial\\omega}=\\frac{1}{m}\\sum_{i=0}^{m-1}{\\left[\\left(f_{\\vec{\\omega},b}\\left({\\vec{x}}^{\\left(i\\right)}\\right)-y^{\\left(i\\right)}\\right){\\vec{x}}^{\\left(i\\right)}\\right]+\\frac{\\lambda}{m}\\vec{\\omega}}$\n",
    "\n",
    "$\\frac{\\lambda}{2m}\\sum_{j=0}^{n-1}{[\\vec{\\omega _ j}]}^2$\n",
    "# Misc #\n",
    "Feature Mapping"
   ]
  },
  {
   "cell_type": "code",
   "execution_count": null,
   "metadata": {},
   "outputs": [],
   "source": []
  }
 ],
 "metadata": {
  "kernelspec": {
   "display_name": "Python 3",
   "language": "python",
   "name": "python3"
  },
  "language_info": {
   "codemirror_mode": {
    "name": "ipython",
    "version": 3
   },
   "file_extension": ".py",
   "mimetype": "text/x-python",
   "name": "python",
   "nbconvert_exporter": "python",
   "pygments_lexer": "ipython3",
   "version": "3.11.4"
  }
 },
 "nbformat": 4,
 "nbformat_minor": 2
}
