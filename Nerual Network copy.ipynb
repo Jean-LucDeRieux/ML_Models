{
 "cells": [
  {
   "cell_type": "markdown",
   "metadata": {},
   "source": [
    "### Basic Nerual Network\n",
    "Followed tutioral from:\n",
    "https://www.youtube.com/watch?v=VMj-3S1tku0&t=2143s&ab_channel=AndrejKarpathy"
   ]
  },
  {
   "cell_type": "code",
   "execution_count": 2,
   "metadata": {},
   "outputs": [],
   "source": [
    "#Libraries to be install\n",
    "import numpy as np\n",
    "import math\n",
    "import graphviz as gv\n",
    "from graphviz import Digraph\n",
    "import random"
   ]
  },
  {
   "cell_type": "markdown",
   "metadata": {},
   "source": [
    "# Nerual Network Math #\n",
    "Derivative: $(f(x+h) - f(x)) \\over h$ \\\n",
    "$ tanh (x) =  \\frac{e^x-e^{-x}}{e^x+e^{-x}} $ "
   ]
  },
  {
   "cell_type": "code",
   "execution_count": 29,
   "metadata": {},
   "outputs": [],
   "source": [
    "# <---prev---[Neuron: Data, Grad]---next--->\n",
    "\n",
    "class Perceptron:\n",
    "    def __init__(self, x):\n",
    "        self.value = 0.0 + x\n",
    "        self.grad = 0 \n",
    "        self.children = []\n",
    "        self.parents = []\n",
    "\n",
    "    def add_child(self, child):\n",
    "        self.children.append(child)\n",
    "        child.parents.append(self)\n",
    "        print(\"f\")"
   ]
  },
  {
   "cell_type": "code",
   "execution_count": 32,
   "metadata": {},
   "outputs": [],
   "source": [
    "class Model:\n",
    "    def __init__(self, numIn, numLayers, numOut):\n",
    "        self.numIn = numIn\n",
    "        self.numLayers = numLayers \n",
    "        self.numOut = numOut\n",
    "        self.inputs = []\n",
    "\n",
    "    def construct(self):\n",
    "\n",
    "        def connect(lstOne, lstTwo):\n",
    "            for node1 in lstOne:\n",
    "                for node2 in lstTwo:\n",
    "                    node1.add_child(node2)\n",
    "            return lstOne\n",
    "            \n",
    "        inputs = []\n",
    "        outputs = []\n",
    "        layers = []\n",
    "\n",
    "        # Intilizing the input column\n",
    "        for i in range(self.numIn):\n",
    "            input = Perceptron(0)\n",
    "            inputs.append(input)\n",
    "\n",
    "        # Intilizing the output column\n",
    "        for i in range(self.numOut):\n",
    "            output = Perceptron(0)\n",
    "            outputs.append(output)\n",
    "\n",
    "        # Creating the layers\n",
    "        for i in range(self.numLayers):\n",
    "            lyrIns = []\n",
    "            for i in range(self.numIn):\n",
    "                input = Perceptron(0)\n",
    "                lyrIns.append(input)\n",
    "            layers.append(lyrIns)\n",
    "        \n",
    "        \n",
    "        for i, current in enumerate(layers):\n",
    "            if i == 0:\n",
    "                inputs = connect(inputs,current)\n",
    "            next_index = i + 1\n",
    "            if next_index < len(layers):\n",
    "                next_item = layers[next_index]\n",
    "                current = connect(current, next_item)\n",
    "            else:\n",
    "                None\n",
    "        outputs = connect(outputs,layers[len(layers)-1])\n",
    "        self.inputs = inputs\n",
    "        "
   ]
  },
  {
   "cell_type": "code",
   "execution_count": 33,
   "metadata": {},
   "outputs": [
    {
     "ename": "AttributeError",
     "evalue": "'Perceptron' object has no attribute 'append'",
     "output_type": "error",
     "traceback": [
      "\u001b[1;31m---------------------------------------------------------------------------\u001b[0m",
      "\u001b[1;31mAttributeError\u001b[0m                            Traceback (most recent call last)",
      "\u001b[1;32mc:\\Users\\keplarV4\\Downloads\\ML_Models\\Nerual Network copy.ipynb Cell 6\u001b[0m line \u001b[0;36m2\n\u001b[0;32m      <a href='vscode-notebook-cell:/c%3A/Users/keplarV4/Downloads/ML_Models/Nerual%20Network%20copy.ipynb#W5sZmlsZQ%3D%3D?line=0'>1</a>\u001b[0m NN \u001b[39m=\u001b[39m Model(\u001b[39m3\u001b[39m,\u001b[39m2\u001b[39m,\u001b[39m1\u001b[39m)\n\u001b[1;32m----> <a href='vscode-notebook-cell:/c%3A/Users/keplarV4/Downloads/ML_Models/Nerual%20Network%20copy.ipynb#W5sZmlsZQ%3D%3D?line=1'>2</a>\u001b[0m NN\u001b[39m.\u001b[39;49mconstruct()\n",
      "\u001b[1;32mc:\\Users\\keplarV4\\Downloads\\ML_Models\\Nerual Network copy.ipynb Cell 6\u001b[0m line \u001b[0;36m3\n\u001b[0;32m     <a href='vscode-notebook-cell:/c%3A/Users/keplarV4/Downloads/ML_Models/Nerual%20Network%20copy.ipynb#W5sZmlsZQ%3D%3D?line=32'>33</a>\u001b[0m     \u001b[39mfor\u001b[39;00m i \u001b[39min\u001b[39;00m \u001b[39mrange\u001b[39m(\u001b[39mself\u001b[39m\u001b[39m.\u001b[39mnumIn):\n\u001b[0;32m     <a href='vscode-notebook-cell:/c%3A/Users/keplarV4/Downloads/ML_Models/Nerual%20Network%20copy.ipynb#W5sZmlsZQ%3D%3D?line=33'>34</a>\u001b[0m         lyrIns \u001b[39m=\u001b[39m Perceptron(\u001b[39m0\u001b[39m)\n\u001b[1;32m---> <a href='vscode-notebook-cell:/c%3A/Users/keplarV4/Downloads/ML_Models/Nerual%20Network%20copy.ipynb#W5sZmlsZQ%3D%3D?line=34'>35</a>\u001b[0m         lyrIns\u001b[39m.\u001b[39;49mappend(\u001b[39minput\u001b[39m)\n\u001b[0;32m     <a href='vscode-notebook-cell:/c%3A/Users/keplarV4/Downloads/ML_Models/Nerual%20Network%20copy.ipynb#W5sZmlsZQ%3D%3D?line=35'>36</a>\u001b[0m     layers\u001b[39m.\u001b[39mappend(lyrIns)\n\u001b[0;32m     <a href='vscode-notebook-cell:/c%3A/Users/keplarV4/Downloads/ML_Models/Nerual%20Network%20copy.ipynb#W5sZmlsZQ%3D%3D?line=38'>39</a>\u001b[0m \u001b[39mfor\u001b[39;00m i, current \u001b[39min\u001b[39;00m \u001b[39menumerate\u001b[39m(layers):\n",
      "\u001b[1;31mAttributeError\u001b[0m: 'Perceptron' object has no attribute 'append'"
     ]
    }
   ],
   "source": [
    "NN = Model(3,2,1)\n",
    "NN.construct()"
   ]
  },
  {
   "cell_type": "code",
   "execution_count": 6,
   "metadata": {},
   "outputs": [
    {
     "name": "stdout",
     "output_type": "stream",
     "text": [
      "<__main__.Perceptron object at 0x000002C9D5CC2790>\n",
      "[<__main__.Perceptron object at 0x000002C9D5CC3B10>, <__main__.Perceptron object at 0x000002C9D5CC3D10>]\n",
      "[<__main__.Perceptron object at 0x000002C9D5CC2790>]\n"
     ]
    }
   ],
   "source": [
    "root = Perceptron(0)\n",
    "child1 = Perceptron(1)\n",
    "child2 = Perceptron(2)\n",
    "child3 = Perceptron(3)\n",
    "\n",
    "in1 = Perceptron(1)\n",
    "in2 = Perceptron(2)\n",
    "in3 = Perceptron(3)\n",
    "\n",
    "in4 = Perceptron(4)\n",
    "in5 = Perceptron(5)\n",
    "\n",
    "in6 = Perceptron(6)\n",
    "\n",
    "in1.add_child(in4)\n",
    "in1.add_child(in5)\n",
    "\n",
    "in2.add_child(in4)\n",
    "in2.add_child(in5)\n",
    "\n",
    "in3.add_child(in4)\n",
    "in3.add_child(in5)\n",
    "\n",
    "in4.add_child(in6)\n",
    "in5.add_child(in6)\n",
    "\n",
    "\n",
    "#\n",
    "# [1x]\n",
    "#          [4]\n",
    "# [2x]            [6]\n",
    "#          [5]\n",
    "# [3x]\n",
    "\n",
    "root.add_child(child1)\n",
    "root.add_child(child2)\n",
    "\n",
    "child2.add_child(child3)\n",
    "\n",
    "print(root)\n",
    "print(root.children)\n",
    "print(child2.parents)\n"
   ]
  },
  {
   "cell_type": "code",
   "execution_count": 7,
   "metadata": {},
   "outputs": [
    {
     "name": "stdout",
     "output_type": "stream",
     "text": [
      "{data 1.0000 | grad 0.0000 }\n",
      "{data 2.0000 | grad 0.0000 }\n",
      "{data 3.0000 | grad 0.0000 }\n",
      "------\n",
      "{data 2.0000 | grad 0.0000 }\n",
      "{data 3.0000 | grad 0.0000 }\n"
     ]
    }
   ],
   "source": [
    "def DFS_forward(node):\n",
    "    # Get list of the current children\n",
    "    lstChildren = node.children\n",
    "    # Print the child Val & Grad and decend back down\n",
    "    for child in lstChildren:\n",
    "        print(\"{data %.4f | grad %.4f }\" % (child.value, child.grad))\n",
    "        DFS_forward(child)\n",
    "\n",
    "def DFS_backward(node):\n",
    "    # Get list of the current children\n",
    "    lstParents = node.parents\n",
    "    # Print the child Val & Grad and decend back down\n",
    "    for parent in lstParents:\n",
    "        print(\"{data %.4f | grad %.4f }\" % (parent.value, parent.grad))\n",
    "        DFS_forward(parent)\n",
    "    \n",
    "DFS_forward(root)\n",
    "print(\"------\")\n",
    "DFS_backward(child3)\n"
   ]
  },
  {
   "cell_type": "code",
   "execution_count": 8,
   "metadata": {},
   "outputs": [],
   "source": [
    "def DFS_backward_prop(node):\n",
    "    # Get list of the current children\n",
    "    lstParents = node.parents\n",
    "    # Print the child Val & Grad and decend back down\n",
    "    for parent in lstParents:\n",
    "        print(\"{data %.4f | grad %.4f }\" % (parent.value, parent.grad))\n",
    "        parent.grad += 1\n",
    "        DFS_backward(parent)"
   ]
  },
  {
   "cell_type": "code",
   "execution_count": 9,
   "metadata": {},
   "outputs": [],
   "source": [
    "def trace(root):\n",
    "  # builds a set of all nodes and edges in a graph\n",
    "  nodes, edges = set(), set()\n",
    "  def build(v):\n",
    "    if v not in nodes:\n",
    "      nodes.add(v)\n",
    "      for child in v.children:\n",
    "        edges.add((child, v))\n",
    "        build(child)\n",
    "  build(root)\n",
    "  return nodes, edges\n",
    "\n",
    "def draw_dot(root):\n",
    "  dot = Digraph(format='svg', graph_attr={'rankdir': 'LR'}) # LR = left to right\n",
    "  \n",
    "  nodes, edges = trace(root)\n",
    "  for n in nodes:\n",
    "    uid = str(id(n))\n",
    "    # for any value in the graph, create a rectangular ('record') node for it\n",
    "    dot.node(name = uid, label = \"{value %.4f | grad %.4f }\" % (n.value, n.grad), shape='record')\n",
    "\n",
    "  for n1, n2 in edges:\n",
    "    # connect n1 to the op node of n2\n",
    "    dot.edge(str(id(n1)), str(id(n2)))\n",
    "\n",
    "  return dot"
   ]
  },
  {
   "cell_type": "code",
   "execution_count": 10,
   "metadata": {},
   "outputs": [
    {
     "data": {
      "image/svg+xml": [
       "<?xml version=\"1.0\" encoding=\"UTF-8\" standalone=\"no\"?>\n",
       "<!DOCTYPE svg PUBLIC \"-//W3C//DTD SVG 1.1//EN\"\n",
       " \"http://www.w3.org/Graphics/SVG/1.1/DTD/svg11.dtd\">\n",
       "<!-- Generated by graphviz version 8.1.0 (20230707.0739)\n",
       " -->\n",
       "<!-- Pages: 1 -->\n",
       "<svg width=\"583pt\" height=\"100pt\"\n",
       " viewBox=\"0.00 0.00 583.25 100.00\" xmlns=\"http://www.w3.org/2000/svg\" xmlns:xlink=\"http://www.w3.org/1999/xlink\">\n",
       "<g id=\"graph0\" class=\"graph\" transform=\"scale(1 1) rotate(0) translate(4 96)\">\n",
       "<polygon fill=\"white\" stroke=\"none\" points=\"-4,4 -4,-96 579.25,-96 579.25,4 -4,4\"/>\n",
       "<!-- 3065898608528 -->\n",
       "<g id=\"node1\" class=\"node\">\n",
       "<title>3065898608528</title>\n",
       "<polygon fill=\"none\" stroke=\"black\" points=\"407.5,-27.5 407.5,-63.5 575.25,-63.5 575.25,-27.5 407.5,-27.5\"/>\n",
       "<text text-anchor=\"middle\" x=\"450.38\" y=\"-40.2\" font-family=\"Times New Roman,serif\" font-size=\"14.00\">value 0.0000</text>\n",
       "<polyline fill=\"none\" stroke=\"black\" points=\"493.25,-27.75 493.25,-63.5\"/>\n",
       "<text text-anchor=\"middle\" x=\"534.25\" y=\"-40.2\" font-family=\"Times New Roman,serif\" font-size=\"14.00\">grad 0.0000</text>\n",
       "</g>\n",
       "<!-- 3065898613520 -->\n",
       "<g id=\"node2\" class=\"node\">\n",
       "<title>3065898613520</title>\n",
       "<polygon fill=\"none\" stroke=\"black\" points=\"203.75,-55.5 203.75,-91.5 371.5,-91.5 371.5,-55.5 203.75,-55.5\"/>\n",
       "<text text-anchor=\"middle\" x=\"246.62\" y=\"-68.2\" font-family=\"Times New Roman,serif\" font-size=\"14.00\">value 1.0000</text>\n",
       "<polyline fill=\"none\" stroke=\"black\" points=\"289.5,-55.75 289.5,-91.5\"/>\n",
       "<text text-anchor=\"middle\" x=\"330.5\" y=\"-68.2\" font-family=\"Times New Roman,serif\" font-size=\"14.00\">grad 0.0000</text>\n",
       "</g>\n",
       "<!-- 3065898613520&#45;&gt;3065898608528 -->\n",
       "<g id=\"edge3\" class=\"edge\">\n",
       "<title>3065898613520&#45;&gt;3065898608528</title>\n",
       "<path fill=\"none\" stroke=\"black\" d=\"M371.27,-62.03C379.68,-60.86 388.27,-59.67 396.8,-58.49\"/>\n",
       "<polygon fill=\"black\" stroke=\"black\" points=\"397.11,-61.84 406.54,-57 396.15,-54.9 397.11,-61.84\"/>\n",
       "</g>\n",
       "<!-- 3065898614032 -->\n",
       "<g id=\"node3\" class=\"node\">\n",
       "<title>3065898614032</title>\n",
       "<polygon fill=\"none\" stroke=\"black\" points=\"203.75,-0.5 203.75,-36.5 371.5,-36.5 371.5,-0.5 203.75,-0.5\"/>\n",
       "<text text-anchor=\"middle\" x=\"246.62\" y=\"-13.2\" font-family=\"Times New Roman,serif\" font-size=\"14.00\">value 2.0000</text>\n",
       "<polyline fill=\"none\" stroke=\"black\" points=\"289.5,-0.75 289.5,-36.5\"/>\n",
       "<text text-anchor=\"middle\" x=\"330.5\" y=\"-13.2\" font-family=\"Times New Roman,serif\" font-size=\"14.00\">grad 0.0000</text>\n",
       "</g>\n",
       "<!-- 3065898614032&#45;&gt;3065898608528 -->\n",
       "<g id=\"edge1\" class=\"edge\">\n",
       "<title>3065898614032&#45;&gt;3065898608528</title>\n",
       "<path fill=\"none\" stroke=\"black\" d=\"M371.27,-29.56C379.68,-30.69 388.27,-31.84 396.8,-32.98\"/>\n",
       "<polygon fill=\"black\" stroke=\"black\" points=\"396.16,-36.56 406.54,-34.41 397.09,-29.62 396.16,-36.56\"/>\n",
       "</g>\n",
       "<!-- 3065898614672 -->\n",
       "<g id=\"node4\" class=\"node\">\n",
       "<title>3065898614672</title>\n",
       "<polygon fill=\"none\" stroke=\"black\" points=\"0,-0.5 0,-36.5 167.75,-36.5 167.75,-0.5 0,-0.5\"/>\n",
       "<text text-anchor=\"middle\" x=\"42.88\" y=\"-13.2\" font-family=\"Times New Roman,serif\" font-size=\"14.00\">value 3.0000</text>\n",
       "<polyline fill=\"none\" stroke=\"black\" points=\"85.75,-0.75 85.75,-36.5\"/>\n",
       "<text text-anchor=\"middle\" x=\"126.75\" y=\"-13.2\" font-family=\"Times New Roman,serif\" font-size=\"14.00\">grad 0.0000</text>\n",
       "</g>\n",
       "<!-- 3065898614672&#45;&gt;3065898614032 -->\n",
       "<g id=\"edge2\" class=\"edge\">\n",
       "<title>3065898614672&#45;&gt;3065898614032</title>\n",
       "<path fill=\"none\" stroke=\"black\" d=\"M167.52,-18.5C175.93,-18.5 184.52,-18.5 193.05,-18.5\"/>\n",
       "<polygon fill=\"black\" stroke=\"black\" points=\"192.79,-22 202.79,-18.5 192.79,-15 192.79,-22\"/>\n",
       "</g>\n",
       "</g>\n",
       "</svg>\n"
      ],
      "text/plain": [
       "<graphviz.graphs.Digraph at 0x2c9d5cca450>"
      ]
     },
     "execution_count": 10,
     "metadata": {},
     "output_type": "execute_result"
    }
   ],
   "source": [
    "draw_dot(root)"
   ]
  },
  {
   "cell_type": "code",
   "execution_count": 11,
   "metadata": {},
   "outputs": [
    {
     "name": "stdout",
     "output_type": "stream",
     "text": [
      "{data 2.0000 | grad 0.0000 }\n",
      "{data 0.0000 | grad 0.0000 }\n",
      "{data 1.0000 | grad 0.0000 }\n",
      "{data 2.0000 | grad 1.0000 }\n",
      "{data 3.0000 | grad 0.0000 }\n"
     ]
    },
    {
     "data": {
      "image/svg+xml": [
       "<?xml version=\"1.0\" encoding=\"UTF-8\" standalone=\"no\"?>\n",
       "<!DOCTYPE svg PUBLIC \"-//W3C//DTD SVG 1.1//EN\"\n",
       " \"http://www.w3.org/Graphics/SVG/1.1/DTD/svg11.dtd\">\n",
       "<!-- Generated by graphviz version 8.1.0 (20230707.0739)\n",
       " -->\n",
       "<!-- Pages: 1 -->\n",
       "<svg width=\"176pt\" height=\"45pt\"\n",
       " viewBox=\"0.00 0.00 175.75 45.00\" xmlns=\"http://www.w3.org/2000/svg\" xmlns:xlink=\"http://www.w3.org/1999/xlink\">\n",
       "<g id=\"graph0\" class=\"graph\" transform=\"scale(1 1) rotate(0) translate(4 41)\">\n",
       "<polygon fill=\"white\" stroke=\"none\" points=\"-4,4 -4,-41 171.75,-41 171.75,4 -4,4\"/>\n",
       "<!-- 3065898613520 -->\n",
       "<g id=\"node1\" class=\"node\">\n",
       "<title>3065898613520</title>\n",
       "<polygon fill=\"none\" stroke=\"black\" points=\"0,-0.5 0,-36.5 167.75,-36.5 167.75,-0.5 0,-0.5\"/>\n",
       "<text text-anchor=\"middle\" x=\"42.88\" y=\"-13.2\" font-family=\"Times New Roman,serif\" font-size=\"14.00\">value 1.0000</text>\n",
       "<polyline fill=\"none\" stroke=\"black\" points=\"85.75,-0.75 85.75,-36.5\"/>\n",
       "<text text-anchor=\"middle\" x=\"126.75\" y=\"-13.2\" font-family=\"Times New Roman,serif\" font-size=\"14.00\">grad 0.0000</text>\n",
       "</g>\n",
       "</g>\n",
       "</svg>\n"
      ],
      "text/plain": [
       "<graphviz.graphs.Digraph at 0x2c9d5cbd150>"
      ]
     },
     "execution_count": 11,
     "metadata": {},
     "output_type": "execute_result"
    }
   ],
   "source": [
    "DFS_backward_prop(child3)\n",
    "draw_dot(child1)"
   ]
  },
  {
   "cell_type": "code",
   "execution_count": 12,
   "metadata": {},
   "outputs": [
    {
     "data": {
      "image/svg+xml": [
       "<?xml version=\"1.0\" encoding=\"UTF-8\" standalone=\"no\"?>\n",
       "<!DOCTYPE svg PUBLIC \"-//W3C//DTD SVG 1.1//EN\"\n",
       " \"http://www.w3.org/Graphics/SVG/1.1/DTD/svg11.dtd\">\n",
       "<!-- Generated by graphviz version 8.1.0 (20230707.0739)\n",
       " -->\n",
       "<!-- Pages: 1 -->\n",
       "<svg width=\"583pt\" height=\"100pt\"\n",
       " viewBox=\"0.00 0.00 583.25 100.00\" xmlns=\"http://www.w3.org/2000/svg\" xmlns:xlink=\"http://www.w3.org/1999/xlink\">\n",
       "<g id=\"graph0\" class=\"graph\" transform=\"scale(1 1) rotate(0) translate(4 96)\">\n",
       "<polygon fill=\"white\" stroke=\"none\" points=\"-4,4 -4,-96 579.25,-96 579.25,4 -4,4\"/>\n",
       "<!-- 3065898632208 -->\n",
       "<g id=\"node1\" class=\"node\">\n",
       "<title>3065898632208</title>\n",
       "<polygon fill=\"none\" stroke=\"black\" points=\"407.5,-27.5 407.5,-63.5 575.25,-63.5 575.25,-27.5 407.5,-27.5\"/>\n",
       "<text text-anchor=\"middle\" x=\"450.38\" y=\"-40.2\" font-family=\"Times New Roman,serif\" font-size=\"14.00\">value 1.0000</text>\n",
       "<polyline fill=\"none\" stroke=\"black\" points=\"493.25,-27.75 493.25,-63.5\"/>\n",
       "<text text-anchor=\"middle\" x=\"534.25\" y=\"-40.2\" font-family=\"Times New Roman,serif\" font-size=\"14.00\">grad 0.0000</text>\n",
       "</g>\n",
       "<!-- 3065898633360 -->\n",
       "<g id=\"node2\" class=\"node\">\n",
       "<title>3065898633360</title>\n",
       "<polygon fill=\"none\" stroke=\"black\" points=\"203.75,-55.5 203.75,-91.5 371.5,-91.5 371.5,-55.5 203.75,-55.5\"/>\n",
       "<text text-anchor=\"middle\" x=\"246.62\" y=\"-68.2\" font-family=\"Times New Roman,serif\" font-size=\"14.00\">value 4.0000</text>\n",
       "<polyline fill=\"none\" stroke=\"black\" points=\"289.5,-55.75 289.5,-91.5\"/>\n",
       "<text text-anchor=\"middle\" x=\"330.5\" y=\"-68.2\" font-family=\"Times New Roman,serif\" font-size=\"14.00\">grad 0.0000</text>\n",
       "</g>\n",
       "<!-- 3065898633360&#45;&gt;3065898632208 -->\n",
       "<g id=\"edge4\" class=\"edge\">\n",
       "<title>3065898633360&#45;&gt;3065898632208</title>\n",
       "<path fill=\"none\" stroke=\"black\" d=\"M371.27,-62.03C379.68,-60.86 388.27,-59.67 396.8,-58.49\"/>\n",
       "<polygon fill=\"black\" stroke=\"black\" points=\"397.11,-61.84 406.54,-57 396.15,-54.9 397.11,-61.84\"/>\n",
       "</g>\n",
       "<!-- 3065898634128 -->\n",
       "<g id=\"node3\" class=\"node\">\n",
       "<title>3065898634128</title>\n",
       "<polygon fill=\"none\" stroke=\"black\" points=\"0,-27.5 0,-63.5 167.75,-63.5 167.75,-27.5 0,-27.5\"/>\n",
       "<text text-anchor=\"middle\" x=\"42.88\" y=\"-40.2\" font-family=\"Times New Roman,serif\" font-size=\"14.00\">value 6.0000</text>\n",
       "<polyline fill=\"none\" stroke=\"black\" points=\"85.75,-27.75 85.75,-63.5\"/>\n",
       "<text text-anchor=\"middle\" x=\"126.75\" y=\"-40.2\" font-family=\"Times New Roman,serif\" font-size=\"14.00\">grad 0.0000</text>\n",
       "</g>\n",
       "<!-- 3065898634128&#45;&gt;3065898633360 -->\n",
       "<g id=\"edge2\" class=\"edge\">\n",
       "<title>3065898634128&#45;&gt;3065898633360</title>\n",
       "<path fill=\"none\" stroke=\"black\" d=\"M167.52,-56.97C175.93,-58.14 184.52,-59.33 193.05,-60.51\"/>\n",
       "<polygon fill=\"black\" stroke=\"black\" points=\"192.4,-64.1 202.79,-62 193.36,-57.16 192.4,-64.1\"/>\n",
       "</g>\n",
       "<!-- 3065898633744 -->\n",
       "<g id=\"node4\" class=\"node\">\n",
       "<title>3065898633744</title>\n",
       "<polygon fill=\"none\" stroke=\"black\" points=\"203.75,-0.5 203.75,-36.5 371.5,-36.5 371.5,-0.5 203.75,-0.5\"/>\n",
       "<text text-anchor=\"middle\" x=\"246.62\" y=\"-13.2\" font-family=\"Times New Roman,serif\" font-size=\"14.00\">value 5.0000</text>\n",
       "<polyline fill=\"none\" stroke=\"black\" points=\"289.5,-0.75 289.5,-36.5\"/>\n",
       "<text text-anchor=\"middle\" x=\"330.5\" y=\"-13.2\" font-family=\"Times New Roman,serif\" font-size=\"14.00\">grad 0.0000</text>\n",
       "</g>\n",
       "<!-- 3065898634128&#45;&gt;3065898633744 -->\n",
       "<g id=\"edge3\" class=\"edge\">\n",
       "<title>3065898634128&#45;&gt;3065898633744</title>\n",
       "<path fill=\"none\" stroke=\"black\" d=\"M167.52,-34.44C175.93,-33.31 184.52,-32.16 193.05,-31.02\"/>\n",
       "<polygon fill=\"black\" stroke=\"black\" points=\"193.34,-34.38 202.79,-29.59 192.41,-27.44 193.34,-34.38\"/>\n",
       "</g>\n",
       "<!-- 3065898633744&#45;&gt;3065898632208 -->\n",
       "<g id=\"edge1\" class=\"edge\">\n",
       "<title>3065898633744&#45;&gt;3065898632208</title>\n",
       "<path fill=\"none\" stroke=\"black\" d=\"M371.27,-29.56C379.68,-30.69 388.27,-31.84 396.8,-32.98\"/>\n",
       "<polygon fill=\"black\" stroke=\"black\" points=\"396.16,-36.56 406.54,-34.41 397.09,-29.62 396.16,-36.56\"/>\n",
       "</g>\n",
       "</g>\n",
       "</svg>\n"
      ],
      "text/plain": [
       "<graphviz.graphs.Digraph at 0x2c9d5cf3f90>"
      ]
     },
     "execution_count": 12,
     "metadata": {},
     "output_type": "execute_result"
    }
   ],
   "source": [
    "draw_dot(in1)"
   ]
  },
  {
   "cell_type": "code",
   "execution_count": 13,
   "metadata": {},
   "outputs": [
    {
     "ename": "IndexError",
     "evalue": "list index out of range",
     "output_type": "error",
     "traceback": [
      "\u001b[1;31m---------------------------------------------------------------------------\u001b[0m",
      "\u001b[1;31mIndexError\u001b[0m                                Traceback (most recent call last)",
      "\u001b[1;32mc:\\Users\\keplarV4\\Downloads\\ML_Models\\Nerual Network copy.ipynb Cell 15\u001b[0m line \u001b[0;36m1\n\u001b[1;32m----> <a href='vscode-notebook-cell:/c%3A/Users/keplarV4/Downloads/ML_Models/Nerual%20Network%20copy.ipynb#X20sZmlsZQ%3D%3D?line=0'>1</a>\u001b[0m draw_dot(NN\u001b[39m.\u001b[39;49minputs[\u001b[39m1\u001b[39;49m])\n",
      "\u001b[1;31mIndexError\u001b[0m: list index out of range"
     ]
    }
   ],
   "source": [
    "draw_dot(NN.inputs[1])"
   ]
  },
  {
   "cell_type": "markdown",
   "metadata": {},
   "source": [
    "# Expresion #\n",
    "$a^{(1)}=\\sigma (Wa^{(0)}+b)$"
   ]
  },
  {
   "cell_type": "code",
   "execution_count": null,
   "metadata": {},
   "outputs": [],
   "source": [
    "A = np.array([[2, 4], [5, -6]])\n",
    "B = np.array([[9, -3], [3, 6]])"
   ]
  }
 ],
 "metadata": {
  "kernelspec": {
   "display_name": "Python 3",
   "language": "python",
   "name": "python3"
  },
  "language_info": {
   "codemirror_mode": {
    "name": "ipython",
    "version": 3
   },
   "file_extension": ".py",
   "mimetype": "text/x-python",
   "name": "python",
   "nbconvert_exporter": "python",
   "pygments_lexer": "ipython3",
   "version": "3.11.4"
  },
  "orig_nbformat": 4
 },
 "nbformat": 4,
 "nbformat_minor": 2
}
