{
 "cells": [
  {
   "cell_type": "markdown",
   "metadata": {},
   "source": [
    "### Basic Nerual Network\n",
    "Followed tutioral from:\n",
    "https://www.youtube.com/watch?v=VMj-3S1tku0&t=2143s&ab_channel=AndrejKarpathy"
   ]
  },
  {
   "cell_type": "code",
   "execution_count": 63,
   "metadata": {},
   "outputs": [],
   "source": [
    "#Libraries to be install\n",
    "import numpy as np\n",
    "import math\n",
    "import graphviz as gv\n",
    "from graphviz import Digraph\n",
    "import random"
   ]
  },
  {
   "cell_type": "markdown",
   "metadata": {},
   "source": [
    "# Nerual Network Math #\n",
    "Derivative: $(f(x+h) - f(x)) \\over h$ \\\n",
    "$ tanh (x) =  \\frac{e^x-e^{-x}}{e^x+e^{-x}} $ "
   ]
  },
  {
   "cell_type": "markdown",
   "metadata": {},
   "source": [
    "(Neuron - Neuron) ----- Edge Weight Neuron ------ (Output Neuron)\n"
   ]
  },
  {
   "cell_type": "code",
   "execution_count": 102,
   "metadata": {},
   "outputs": [],
   "source": [
    "# <---prev---[Neuron: Data, Grad]---next--->\n",
    "\n",
    "class Neuron:\n",
    "    def __init__(self, value, _children=()):\n",
    "        self.value = value\n",
    "        self.grad = 0.0\n",
    "        self.next = None\n",
    "        self._prev = set(_children)\n",
    "        self.children = []"
   ]
  },
  {
   "cell_type": "code",
   "execution_count": 106,
   "metadata": {},
   "outputs": [
    {
     "ename": "AttributeError",
     "evalue": "'list' object has no attribute '_prev'",
     "output_type": "error",
     "traceback": [
      "\u001b[1;31m---------------------------------------------------------------------------\u001b[0m",
      "\u001b[1;31mAttributeError\u001b[0m                            Traceback (most recent call last)",
      "\u001b[1;32mc:\\Users\\keplarV4\\Downloads\\ML_Models\\Nerual Network copy.ipynb Cell 6\u001b[0m line \u001b[0;36m3\n\u001b[0;32m     <a href='vscode-notebook-cell:/c%3A/Users/keplarV4/Downloads/ML_Models/Nerual%20Network%20copy.ipynb#X56sZmlsZQ%3D%3D?line=26'>27</a>\u001b[0m b\u001b[39m.\u001b[39m_prev \u001b[39m=\u001b[39m (c)\n\u001b[0;32m     <a href='vscode-notebook-cell:/c%3A/Users/keplarV4/Downloads/ML_Models/Nerual%20Network%20copy.ipynb#X56sZmlsZQ%3D%3D?line=28'>29</a>\u001b[0m lstInput \u001b[39m=\u001b[39m [a]\n\u001b[1;32m---> <a href='vscode-notebook-cell:/c%3A/Users/keplarV4/Downloads/ML_Models/Nerual%20Network%20copy.ipynb#X56sZmlsZQ%3D%3D?line=29'>30</a>\u001b[0m draw(lstInput)\n",
      "\u001b[1;32mc:\\Users\\keplarV4\\Downloads\\ML_Models\\Nerual Network copy.ipynb Cell 6\u001b[0m line \u001b[0;36m1\n\u001b[0;32m      <a href='vscode-notebook-cell:/c%3A/Users/keplarV4/Downloads/ML_Models/Nerual%20Network%20copy.ipynb#X56sZmlsZQ%3D%3D?line=6'>7</a>\u001b[0m \u001b[39m# Add nodes to the graph\u001b[39;00m\n\u001b[0;32m      <a href='vscode-notebook-cell:/c%3A/Users/keplarV4/Downloads/ML_Models/Nerual%20Network%20copy.ipynb#X56sZmlsZQ%3D%3D?line=7'>8</a>\u001b[0m \u001b[39m# for any value in the graph, create a rectangular ('record') node for it\u001b[39;00m\n\u001b[0;32m     <a href='vscode-notebook-cell:/c%3A/Users/keplarV4/Downloads/ML_Models/Nerual%20Network%20copy.ipynb#X56sZmlsZQ%3D%3D?line=9'>10</a>\u001b[0m \u001b[39mlist\u001b[39m \u001b[39m=\u001b[39m []\n\u001b[1;32m---> <a href='vscode-notebook-cell:/c%3A/Users/keplarV4/Downloads/ML_Models/Nerual%20Network%20copy.ipynb#X56sZmlsZQ%3D%3D?line=10'>11</a>\u001b[0m \u001b[39mfor\u001b[39;00m n \u001b[39min\u001b[39;00m setNeuron\u001b[39m.\u001b[39;49m_prev:\n\u001b[0;32m     <a href='vscode-notebook-cell:/c%3A/Users/keplarV4/Downloads/ML_Models/Nerual%20Network%20copy.ipynb#X56sZmlsZQ%3D%3D?line=11'>12</a>\u001b[0m     uid \u001b[39m=\u001b[39m \u001b[39mstr\u001b[39m(\u001b[39mid\u001b[39m(n))\n\u001b[0;32m     <a href='vscode-notebook-cell:/c%3A/Users/keplarV4/Downloads/ML_Models/Nerual%20Network%20copy.ipynb#X56sZmlsZQ%3D%3D?line=12'>13</a>\u001b[0m     \u001b[39mlist\u001b[39m\u001b[39m.\u001b[39mappend(uid)\n",
      "\u001b[1;31mAttributeError\u001b[0m: 'list' object has no attribute '_prev'"
     ]
    }
   ],
   "source": [
    "from graphviz import Digraph\n",
    "\n",
    "def trace(Neuron):\n",
    "    \n",
    "\n",
    "def draw(setNeuron):\n",
    "    # Create a new directed graph\n",
    "    g = Digraph(format='svg', graph_attr={'rankdir': 'LR'})\n",
    "\n",
    "    # Add nodes to the graph\n",
    "    # for any value in the graph, create a rectangular ('record') node for it\n",
    "\n",
    "    list = []\n",
    "    for n in setNeuron:\n",
    "        uid = str(id(n))\n",
    "        list.append(uid)\n",
    "        g.node(uid,label = \"{ data %.4f | grad %.4f }\" % (n.value, n.grad), shape='record')\n",
    "   \n",
    "    # # Add edges to the graph\n",
    "    g.edge(list[0], list[1])\n",
    "    g.edge(list[1], list[2])\n",
    "\n",
    "    # Save and render the graph to a file\n",
    "    return g\n",
    "\n",
    "a = Neuron(1)\n",
    "b = Neuron(2)\n",
    "c = Neuron(3)\n",
    "a._prev = (b)\n",
    "b._prev = (c)\n",
    "\n",
    "lstInput = [a]\n",
    "draw(lstInput)\n"
   ]
  },
  {
   "cell_type": "code",
   "execution_count": null,
   "metadata": {},
   "outputs": [],
   "source": [
    "class Value:\n",
    "  \n",
    "  def __init__(self, data, _children=(), _op='', label=''):\n",
    "    self.data = data\n",
    "    self.grad = 0.0\n",
    "    self._backward = lambda: None\n",
    "    self._prev = set(_children)\n",
    "    self._op = _op\n",
    "    self.label = label\n",
    "\n",
    "  # Returns string representation of the object\n",
    "  def __repr__(self):\n",
    "    return f\"Value(data={self.data})\"\n",
    "  \n",
    "  # Returns addition of other Value object\n",
    "  def __add__(self, other):\n",
    "    other = other if isinstance(other,Value) else Value(other)\n",
    "    out = Value(self.data + other.data, (self, other), '+')\n",
    "    \n",
    "    def _backward():\n",
    "      self.grad += 1.0 * out.grad\n",
    "      other.grad += 1.0 * out.grad\n",
    "    out._backward = _backward\n",
    "    \n",
    "    return out\n",
    "\n",
    "  # Returns multiplcation of other Value object \n",
    "  def __mul__(self, other):\n",
    "    out = Value(self.data * other.data, (self, other), '*')\n",
    "    \n",
    "    def _backward():\n",
    "      self.grad += other.data * out.grad\n",
    "      other.grad += self.data * out.grad\n",
    "    out._backward = _backward\n",
    "      \n",
    "    return out\n",
    "  \n",
    "  # Implmentation of hyperbolic tangent\n",
    "  def tanh(self):\n",
    "    x = self.data\n",
    "    t = (math.exp(2*x) - 1)/(math.exp(2*x) + 1)\n",
    "    out = Value(t, (self, ), 'tanh')\n",
    "    \n",
    "    def _backward():\n",
    "      self.grad += (1 - t**2) * out.grad\n",
    "    out._backward = _backward\n",
    "    \n",
    "    return out\n",
    "  \n",
    "  # Back propogation for nodes\n",
    "  def backward(self):\n",
    "    \n",
    "    topo = []\n",
    "    visited = set()\n",
    "    def build_topo(v):\n",
    "      if v not in visited:\n",
    "        visited.add(v)\n",
    "        for child in v._prev:\n",
    "          build_topo(child)\n",
    "        topo.append(v)\n",
    "    build_topo(self)\n",
    "    \n",
    "    self.grad = 1.0\n",
    "    for node in reversed(topo):\n",
    "      node._backward()"
   ]
  },
  {
   "cell_type": "code",
   "execution_count": 65,
   "metadata": {},
   "outputs": [
    {
     "name": "stdout",
     "output_type": "stream",
     "text": [
      "Child 1\n",
      "Child 2\n"
     ]
    }
   ],
   "source": [
    "root = Neuron('Root')\n",
    "child1 = Neuron('Child 1')\n",
    "child2 = Neuron('Child 2')\n",
    "\n",
    "root.add_child(child1)\n",
    "root.add_child(child2)\n",
    "\n",
    "for x in root.children:\n",
    "    print(x.value)"
   ]
  },
  {
   "cell_type": "code",
   "execution_count": 66,
   "metadata": {},
   "outputs": [],
   "source": [
    "def trace(root):\n",
    "  # builds a set of all nodes and edges in a graph\n",
    "  nodes, edges = set(), set()\n",
    "  def build(v):\n",
    "    if v not in nodes:\n",
    "      nodes.add(v)\n",
    "      for child in v._prev:\n",
    "        edges.add((child, v))\n",
    "        build(child)\n",
    "  build(root)\n",
    "  return nodes, edges\n",
    "\n",
    "def draw_dot(root):\n",
    "  dot = Digraph(format='svg', graph_attr={'rankdir': 'LR'}) # LR = left to right\n",
    "  \n",
    "  nodes, edges = trace(root)\n",
    "  for n in nodes:\n",
    "    uid = str(id(n))\n",
    "    # for any value in the graph, create a rectangular ('record') node for it\n",
    "    dot.node(name = uid, label = \"{ %s | data %.4f | grad %.4f }\" % (n.label, n.data, n.grad), shape='record')\n",
    "    if n._op:\n",
    "      # if this value is a result of some operation, create an op node for it\n",
    "      dot.node(name = uid + n._op, label = n._op)\n",
    "      # and connect this node to it\n",
    "      dot.edge(uid + n._op, uid)\n",
    "\n",
    "  for n1, n2 in edges:\n",
    "    # connect n1 to the op node of n2\n",
    "    dot.edge(str(id(n1)), str(id(n2)) + n2._op)\n",
    "\n",
    "  return dot"
   ]
  },
  {
   "cell_type": "code",
   "execution_count": 72,
   "metadata": {},
   "outputs": [
    {
     "ename": "AttributeError",
     "evalue": "'Neuron' object has no attribute '_prev'",
     "output_type": "error",
     "traceback": [
      "\u001b[1;31m---------------------------------------------------------------------------\u001b[0m",
      "\u001b[1;31mAttributeError\u001b[0m                            Traceback (most recent call last)",
      "\u001b[1;32mc:\\Users\\keplarV4\\Downloads\\ML_Models\\Nerual Network copy.ipynb Cell 8\u001b[0m line \u001b[0;36m1\n\u001b[1;32m----> <a href='vscode-notebook-cell:/c%3A/Users/keplarV4/Downloads/ML_Models/Nerual%20Network%20copy.ipynb#X55sZmlsZQ%3D%3D?line=0'>1</a>\u001b[0m draw_dot(root)\n",
      "\u001b[1;32mc:\\Users\\keplarV4\\Downloads\\ML_Models\\Nerual Network copy.ipynb Cell 8\u001b[0m line \u001b[0;36m1\n\u001b[0;32m     <a href='vscode-notebook-cell:/c%3A/Users/keplarV4/Downloads/ML_Models/Nerual%20Network%20copy.ipynb#X55sZmlsZQ%3D%3D?line=12'>13</a>\u001b[0m \u001b[39mdef\u001b[39;00m \u001b[39mdraw_dot\u001b[39m(root):\n\u001b[0;32m     <a href='vscode-notebook-cell:/c%3A/Users/keplarV4/Downloads/ML_Models/Nerual%20Network%20copy.ipynb#X55sZmlsZQ%3D%3D?line=13'>14</a>\u001b[0m   dot \u001b[39m=\u001b[39m Digraph(\u001b[39mformat\u001b[39m\u001b[39m=\u001b[39m\u001b[39m'\u001b[39m\u001b[39msvg\u001b[39m\u001b[39m'\u001b[39m, graph_attr\u001b[39m=\u001b[39m{\u001b[39m'\u001b[39m\u001b[39mrankdir\u001b[39m\u001b[39m'\u001b[39m: \u001b[39m'\u001b[39m\u001b[39mLR\u001b[39m\u001b[39m'\u001b[39m}) \u001b[39m# LR = left to right\u001b[39;00m\n\u001b[1;32m---> <a href='vscode-notebook-cell:/c%3A/Users/keplarV4/Downloads/ML_Models/Nerual%20Network%20copy.ipynb#X55sZmlsZQ%3D%3D?line=15'>16</a>\u001b[0m   nodes, edges \u001b[39m=\u001b[39m trace(root)\n\u001b[0;32m     <a href='vscode-notebook-cell:/c%3A/Users/keplarV4/Downloads/ML_Models/Nerual%20Network%20copy.ipynb#X55sZmlsZQ%3D%3D?line=16'>17</a>\u001b[0m   \u001b[39mfor\u001b[39;00m n \u001b[39min\u001b[39;00m nodes:\n\u001b[0;32m     <a href='vscode-notebook-cell:/c%3A/Users/keplarV4/Downloads/ML_Models/Nerual%20Network%20copy.ipynb#X55sZmlsZQ%3D%3D?line=17'>18</a>\u001b[0m     uid \u001b[39m=\u001b[39m \u001b[39mstr\u001b[39m(\u001b[39mid\u001b[39m(n))\n",
      "\u001b[1;32mc:\\Users\\keplarV4\\Downloads\\ML_Models\\Nerual Network copy.ipynb Cell 8\u001b[0m line \u001b[0;36m1\n\u001b[0;32m      <a href='vscode-notebook-cell:/c%3A/Users/keplarV4/Downloads/ML_Models/Nerual%20Network%20copy.ipynb#X55sZmlsZQ%3D%3D?line=7'>8</a>\u001b[0m       edges\u001b[39m.\u001b[39madd((child, v))\n\u001b[0;32m      <a href='vscode-notebook-cell:/c%3A/Users/keplarV4/Downloads/ML_Models/Nerual%20Network%20copy.ipynb#X55sZmlsZQ%3D%3D?line=8'>9</a>\u001b[0m       build(child)\n\u001b[1;32m---> <a href='vscode-notebook-cell:/c%3A/Users/keplarV4/Downloads/ML_Models/Nerual%20Network%20copy.ipynb#X55sZmlsZQ%3D%3D?line=9'>10</a>\u001b[0m build(root)\n\u001b[0;32m     <a href='vscode-notebook-cell:/c%3A/Users/keplarV4/Downloads/ML_Models/Nerual%20Network%20copy.ipynb#X55sZmlsZQ%3D%3D?line=10'>11</a>\u001b[0m \u001b[39mreturn\u001b[39;00m nodes, edges\n",
      "\u001b[1;32mc:\\Users\\keplarV4\\Downloads\\ML_Models\\Nerual Network copy.ipynb Cell 8\u001b[0m line \u001b[0;36m7\n\u001b[0;32m      <a href='vscode-notebook-cell:/c%3A/Users/keplarV4/Downloads/ML_Models/Nerual%20Network%20copy.ipynb#X55sZmlsZQ%3D%3D?line=4'>5</a>\u001b[0m \u001b[39mif\u001b[39;00m v \u001b[39mnot\u001b[39;00m \u001b[39min\u001b[39;00m nodes:\n\u001b[0;32m      <a href='vscode-notebook-cell:/c%3A/Users/keplarV4/Downloads/ML_Models/Nerual%20Network%20copy.ipynb#X55sZmlsZQ%3D%3D?line=5'>6</a>\u001b[0m   nodes\u001b[39m.\u001b[39madd(v)\n\u001b[1;32m----> <a href='vscode-notebook-cell:/c%3A/Users/keplarV4/Downloads/ML_Models/Nerual%20Network%20copy.ipynb#X55sZmlsZQ%3D%3D?line=6'>7</a>\u001b[0m   \u001b[39mfor\u001b[39;00m child \u001b[39min\u001b[39;00m v\u001b[39m.\u001b[39;49m_prev:\n\u001b[0;32m      <a href='vscode-notebook-cell:/c%3A/Users/keplarV4/Downloads/ML_Models/Nerual%20Network%20copy.ipynb#X55sZmlsZQ%3D%3D?line=7'>8</a>\u001b[0m     edges\u001b[39m.\u001b[39madd((child, v))\n\u001b[0;32m      <a href='vscode-notebook-cell:/c%3A/Users/keplarV4/Downloads/ML_Models/Nerual%20Network%20copy.ipynb#X55sZmlsZQ%3D%3D?line=8'>9</a>\u001b[0m     build(child)\n",
      "\u001b[1;31mAttributeError\u001b[0m: 'Neuron' object has no attribute '_prev'"
     ]
    }
   ],
   "source": [
    "draw_dot(root)"
   ]
  },
  {
   "cell_type": "markdown",
   "metadata": {},
   "source": [
    "# Expresion #\n",
    "$a^{(1)}=\\sigma (Wa^{(0)}+b)$"
   ]
  },
  {
   "cell_type": "code",
   "execution_count": 69,
   "metadata": {},
   "outputs": [],
   "source": [
    "A = np.array([[2, 4], [5, -6]])\n",
    "B = np.array([[9, -3], [3, 6]])"
   ]
  }
 ],
 "metadata": {
  "kernelspec": {
   "display_name": "Python 3",
   "language": "python",
   "name": "python3"
  },
  "language_info": {
   "codemirror_mode": {
    "name": "ipython",
    "version": 3
   },
   "file_extension": ".py",
   "mimetype": "text/x-python",
   "name": "python",
   "nbconvert_exporter": "python",
   "pygments_lexer": "ipython3",
   "version": "3.11.4"
  },
  "orig_nbformat": 4
 },
 "nbformat": 4,
 "nbformat_minor": 2
}
