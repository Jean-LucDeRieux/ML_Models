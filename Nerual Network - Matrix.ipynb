{
 "cells": [
  {
   "cell_type": "code",
   "execution_count": 3,
   "metadata": {},
   "outputs": [],
   "source": [
    "#Libraries to be install\n",
    "import numpy as np\n",
    "import math\n",
    "import graphviz as gv\n",
    "from graphviz import Digraph\n",
    "import random\n",
    "import time\n",
    "import matplotlib.pyplot as plt\n",
    "random.seed(42)"
   ]
  },
  {
   "cell_type": "code",
   "execution_count": 4,
   "metadata": {},
   "outputs": [],
   "source": [
    "class nerualNetwork:\n",
    "    def __init__(self, numIn, numLayers, numOut, actFunc, lossFunc, bias):\n",
    "        self.numIn = numIn\n",
    "        self.numLayers = numLayers \n",
    "        self.numOut = numOut\n",
    "        self.input = np.zeros((numIn, 1))\n",
    "        self.layers = [np.zeros((num, 1)) for num in self.numLayers]\n",
    "        self.output = np.zeros((numOut, 1))\n",
    "        self.layerWeights = []\n",
    "        self.network = []\n",
    "        self.actFunc = actFunc\n",
    "        self.lossFunc = lossFunc\n",
    "        self.bias = bias\n",
    "        self.construct()\n",
    "\n",
    "    def copy(self):\n",
    "        import copy\n",
    "        return copy.deepcopy(self)\n",
    "    \n",
    "    def printSpecs(self):\n",
    "        print(\"Inputs\",self.input.shape,\":\\n\",self.input)\n",
    "        print(\"Output\",self.output.shape,\":\\n\",self.output)\n",
    "        [print(\"Layers\",[index],\": \\n\",layer) for index, layer in enumerate(self.layers)]\n",
    "        [print(\"Weights[\",index,\"]: \\n\",weight) for index, weight in enumerate(self.layerWeights)]\n",
    "        [print(\"weight\",weight.shape,\":)\") for weight in self.layerWeights]\n",
    "        [print(\"NETWORK[\",index,\"]: \\n\",net) for index, net in enumerate(self.network)]\n",
    "  \n",
    "    def construct(self):\n",
    "        NN = []\n",
    "        newNN = []\n",
    "        NN.append(self.input)\n",
    "        NN+=self.layers\n",
    "        NN.append(self.output)\n",
    "        newNN = NN.copy()\n",
    "        k = 1\n",
    "        for i in range(len(NN)):\n",
    "            if i+1 < len(NN):\n",
    "                x = np.random.rand((NN[i].shape[0])*NN[i+1].shape[0],1)\n",
    "                self.layerWeights.append(x)\n",
    "                newNN.insert(i+k,x)\n",
    "                k+=1\n",
    "        self.network = newNN\n",
    "    \n",
    "    def forwardProp(self, inputs, labels):\n",
    "        listNodes = []\n",
    "        nodeNum = 0\n",
    "        for index, nodeList in enumerate(self.network):\n",
    "            if index % 2 == 0:\n",
    "                nodes = []\n",
    "                [nodes.append(nodeNum) for node in nodeList]\n",
    "                listNodes.append(nodes)\n",
    "        i = 0\n",
    "        listNodes[0] = inputs\n",
    "        for index, weights in enumerate(self.network):\n",
    "            if index % 2 != 0:\n",
    "                w = weights.tolist()\n",
    "                a = self.network[index-1].tolist()\n",
    "                b = self.network[index+1].tolist()\n",
    "                c = len(min(a,b))\n",
    "                d = len(max(a,b))\n",
    "                np.dot(listNodes[i],w)\n",
    "                i=+1\n",
    "\n",
    "        return 1\n",
    "\n",
    "    def train(self, inputs, labels, r, epochs):\n",
    "        loss_time_pairs = []\n",
    "        start_time = time.time() * 1000  # record start time in milliseconds\n",
    "        for _ in range(epochs):\n",
    "            for input, label in zip(inputs, labels):\n",
    "                loss = self.forwardProp(input, labels)\n",
    "                elapsed_time_in_ms = time.time() * 1000 - start_time  # calculate elapsed time\n",
    "                loss_time_pairs.append((loss, elapsed_time_in_ms))\n",
    "               #self.backwardProp(label, r)\n",
    "        return loss_time_pairs\n",
    "\n",
    "    def draw_dot(self):\n",
    "        dot = Digraph(format='svg', graph_attr={'rankdir': 'LR'})  # LR = left to right\n",
    "\n",
    "        listNodes = []\n",
    "        nodeNum = 0\n",
    "        for index, nodeList in enumerate(self.network):\n",
    "            if index % 2 == 0:\n",
    "                nodes = []\n",
    "                for node in nodeList:\n",
    "                    dot.node(name=str(id(nodeNum)), label=f\"value: {node[0]:.4f}\", shape='circle')\n",
    "                    nodes.append(nodeNum)\n",
    "                    nodeNum+=1\n",
    "                listNodes.append(nodes)\n",
    "                \n",
    "        for index, weights in enumerate(self.network):\n",
    "            if index % 2 != 0:\n",
    "                w = weights.tolist()\n",
    "                a = self.network[index-1].tolist()\n",
    "                b = self.network[index+1].tolist()\n",
    "                c = len(min(a,b))\n",
    "                d = len(max(a,b))\n",
    "                for i in range(c):\n",
    "                    chunk = weights[i:i+d].tolist()\n",
    "                    for node1 in listNodes[i]:\n",
    "                            for node2 in listNodes[i+1]:\n",
    "                                    dot.edge(str(id(node1)), str(id(node2)), label=f\"w: {w[0][0]:.4f}\")\n",
    "                                    w.pop(0)\n",
    "                    if len(w) == 0:\n",
    "                        listNodes.pop(0)\n",
    "                        break\n",
    "        return dot"
   ]
  },
  {
   "cell_type": "code",
   "execution_count": 5,
   "metadata": {},
   "outputs": [
    {
     "data": {
      "text/plain": [
       "2"
      ]
     },
     "execution_count": 5,
     "metadata": {},
     "output_type": "execute_result"
    }
   ],
   "source": [
    "x = np.array([[1],[2]])\n",
    "x.shape\n",
    "x[1,0]"
   ]
  },
  {
   "cell_type": "code",
   "execution_count": 6,
   "metadata": {},
   "outputs": [
    {
     "name": "stdout",
     "output_type": "stream",
     "text": [
      "0\n"
     ]
    }
   ],
   "source": [
    "x = 0 % 2\n",
    "print(x)"
   ]
  },
  {
   "cell_type": "code",
   "execution_count": 7,
   "metadata": {},
   "outputs": [],
   "source": [
    "ANDgateModel = nerualNetwork(3,[],1,\"Sigmoid\",\"CrossEntropy\",1)\n",
    "ANDgateModel.input = np.array([[1],[2],[3]])\n",
    "ANDgateModel.layers = []\n",
    "ANDgateModel.layers.append(np.array([[4],[5]]))\n",
    "ANDgateModel.output = np.array([[6]])\n",
    "ANDgateModel.layerWeights = []\n",
    "ANDgateModel.construct()"
   ]
  },
  {
   "cell_type": "code",
   "execution_count": 8,
   "metadata": {},
   "outputs": [
    {
     "name": "stdout",
     "output_type": "stream",
     "text": [
      "Inputs (3, 1) :\n",
      " [[1]\n",
      " [2]\n",
      " [3]]\n",
      "Output (1, 1) :\n",
      " [[6]]\n",
      "Layers [0] : \n",
      " [[4]\n",
      " [5]]\n",
      "Weights[ 0 ]: \n",
      " [[0.5085847 ]\n",
      " [0.96006609]\n",
      " [0.5914423 ]\n",
      " [0.39583927]\n",
      " [0.49127761]\n",
      " [0.034895  ]]\n",
      "Weights[ 1 ]: \n",
      " [[0.94443571]\n",
      " [0.2491297 ]]\n",
      "weight (6, 1) :)\n",
      "weight (2, 1) :)\n",
      "NETWORK[ 0 ]: \n",
      " [[1]\n",
      " [2]\n",
      " [3]]\n",
      "NETWORK[ 1 ]: \n",
      " [[0.5085847 ]\n",
      " [0.96006609]\n",
      " [0.5914423 ]\n",
      " [0.39583927]\n",
      " [0.49127761]\n",
      " [0.034895  ]]\n",
      "NETWORK[ 2 ]: \n",
      " [[4]\n",
      " [5]]\n",
      "NETWORK[ 3 ]: \n",
      " [[0.94443571]\n",
      " [0.2491297 ]]\n",
      "NETWORK[ 4 ]: \n",
      " [[6]]\n"
     ]
    }
   ],
   "source": [
    "ANDgateModel.printSpecs()"
   ]
  },
  {
   "cell_type": "code",
   "execution_count": 10,
   "metadata": {},
   "outputs": [
    {
     "ename": "KeyboardInterrupt",
     "evalue": "",
     "output_type": "error",
     "traceback": [
      "\u001b[1;31m---------------------------------------------------------------------------\u001b[0m",
      "\u001b[1;31mKeyboardInterrupt\u001b[0m                         Traceback (most recent call last)",
      "\u001b[1;32mc:\\Users\\keplarV4\\Downloads\\ML_Models\\Nerual Network - Matrix.ipynb Cell 7\u001b[0m line \u001b[0;36m1\n\u001b[0;32m      <a href='vscode-notebook-cell:/c%3A/Users/keplarV4/Downloads/ML_Models/Nerual%20Network%20-%20Matrix.ipynb#X20sZmlsZQ%3D%3D?line=0'>1</a>\u001b[0m xs \u001b[39m=\u001b[39m [\n\u001b[0;32m      <a href='vscode-notebook-cell:/c%3A/Users/keplarV4/Downloads/ML_Models/Nerual%20Network%20-%20Matrix.ipynb#X20sZmlsZQ%3D%3D?line=1'>2</a>\u001b[0m   [\u001b[39m0\u001b[39m, \u001b[39m0\u001b[39m, \u001b[39m0\u001b[39m],\n\u001b[0;32m      <a href='vscode-notebook-cell:/c%3A/Users/keplarV4/Downloads/ML_Models/Nerual%20Network%20-%20Matrix.ipynb#X20sZmlsZQ%3D%3D?line=2'>3</a>\u001b[0m   [\u001b[39m0\u001b[39m, \u001b[39m0\u001b[39m, \u001b[39m1\u001b[39m],\n\u001b[1;32m   (...)\u001b[0m\n\u001b[0;32m      <a href='vscode-notebook-cell:/c%3A/Users/keplarV4/Downloads/ML_Models/Nerual%20Network%20-%20Matrix.ipynb#X20sZmlsZQ%3D%3D?line=8'>9</a>\u001b[0m   [\u001b[39m1\u001b[39m, \u001b[39m1\u001b[39m, \u001b[39m1\u001b[39m],\n\u001b[0;32m     <a href='vscode-notebook-cell:/c%3A/Users/keplarV4/Downloads/ML_Models/Nerual%20Network%20-%20Matrix.ipynb#X20sZmlsZQ%3D%3D?line=9'>10</a>\u001b[0m ]\n\u001b[0;32m     <a href='vscode-notebook-cell:/c%3A/Users/keplarV4/Downloads/ML_Models/Nerual%20Network%20-%20Matrix.ipynb#X20sZmlsZQ%3D%3D?line=10'>11</a>\u001b[0m ys \u001b[39m=\u001b[39m [[\u001b[39m0\u001b[39m],[\u001b[39m0\u001b[39m],[\u001b[39m0\u001b[39m],[\u001b[39m1\u001b[39m],[\u001b[39m1\u001b[39m],[\u001b[39m0\u001b[39m],[\u001b[39m0\u001b[39m],[\u001b[39m1\u001b[39m]] \u001b[39m# desired targets\u001b[39;00m\n\u001b[1;32m---> <a href='vscode-notebook-cell:/c%3A/Users/keplarV4/Downloads/ML_Models/Nerual%20Network%20-%20Matrix.ipynb#X20sZmlsZQ%3D%3D?line=12'>13</a>\u001b[0m ANDgateModel\u001b[39m.\u001b[39;49mforwardProp([\u001b[39m0\u001b[39;49m,\u001b[39m0\u001b[39;49m,\u001b[39m1\u001b[39;49m],[\u001b[39m0\u001b[39;49m])\n\u001b[0;32m     <a href='vscode-notebook-cell:/c%3A/Users/keplarV4/Downloads/ML_Models/Nerual%20Network%20-%20Matrix.ipynb#X20sZmlsZQ%3D%3D?line=13'>14</a>\u001b[0m \u001b[39m# xy = ANDgateModel.train(xs, ys, 0.1, 2000)\u001b[39;00m\n\u001b[0;32m     <a href='vscode-notebook-cell:/c%3A/Users/keplarV4/Downloads/ML_Models/Nerual%20Network%20-%20Matrix.ipynb#X20sZmlsZQ%3D%3D?line=14'>15</a>\u001b[0m \n\u001b[0;32m     <a href='vscode-notebook-cell:/c%3A/Users/keplarV4/Downloads/ML_Models/Nerual%20Network%20-%20Matrix.ipynb#X20sZmlsZQ%3D%3D?line=15'>16</a>\u001b[0m \u001b[39m# # Separate the loss and time values\u001b[39;00m\n\u001b[1;32m   (...)\u001b[0m\n\u001b[0;32m     <a href='vscode-notebook-cell:/c%3A/Users/keplarV4/Downloads/ML_Models/Nerual%20Network%20-%20Matrix.ipynb#X20sZmlsZQ%3D%3D?line=24'>25</a>\u001b[0m \u001b[39m# axs.plot(x, y)\u001b[39;00m\n\u001b[0;32m     <a href='vscode-notebook-cell:/c%3A/Users/keplarV4/Downloads/ML_Models/Nerual%20Network%20-%20Matrix.ipynb#X20sZmlsZQ%3D%3D?line=25'>26</a>\u001b[0m \u001b[39m# plt.show()\u001b[39;00m\n",
      "\u001b[1;32mc:\\Users\\keplarV4\\Downloads\\ML_Models\\Nerual Network - Matrix.ipynb Cell 7\u001b[0m line \u001b[0;36m6\n\u001b[0;32m     <a href='vscode-notebook-cell:/c%3A/Users/keplarV4/Downloads/ML_Models/Nerual%20Network%20-%20Matrix.ipynb#X20sZmlsZQ%3D%3D?line=58'>59</a>\u001b[0m         c \u001b[39m=\u001b[39m \u001b[39mlen\u001b[39m(\u001b[39mmin\u001b[39m(a,b))\n\u001b[0;32m     <a href='vscode-notebook-cell:/c%3A/Users/keplarV4/Downloads/ML_Models/Nerual%20Network%20-%20Matrix.ipynb#X20sZmlsZQ%3D%3D?line=59'>60</a>\u001b[0m         d \u001b[39m=\u001b[39m \u001b[39mlen\u001b[39m(\u001b[39mmax\u001b[39m(a,b))\n\u001b[1;32m---> <a href='vscode-notebook-cell:/c%3A/Users/keplarV4/Downloads/ML_Models/Nerual%20Network%20-%20Matrix.ipynb#X20sZmlsZQ%3D%3D?line=60'>61</a>\u001b[0m         np\u001b[39m.\u001b[39mdot(listNodes[i],w)\n\u001b[0;32m     <a href='vscode-notebook-cell:/c%3A/Users/keplarV4/Downloads/ML_Models/Nerual%20Network%20-%20Matrix.ipynb#X20sZmlsZQ%3D%3D?line=61'>62</a>\u001b[0m         i\u001b[39m=\u001b[39m\u001b[39m+\u001b[39m\u001b[39m1\u001b[39m\n\u001b[0;32m     <a href='vscode-notebook-cell:/c%3A/Users/keplarV4/Downloads/ML_Models/Nerual%20Network%20-%20Matrix.ipynb#X20sZmlsZQ%3D%3D?line=63'>64</a>\u001b[0m \u001b[39mreturn\u001b[39;00m \u001b[39m1\u001b[39m\n",
      "\u001b[1;32mc:\\Users\\keplarV4\\Downloads\\ML_Models\\Nerual Network - Matrix.ipynb Cell 7\u001b[0m line \u001b[0;36m6\n\u001b[0;32m     <a href='vscode-notebook-cell:/c%3A/Users/keplarV4/Downloads/ML_Models/Nerual%20Network%20-%20Matrix.ipynb#X20sZmlsZQ%3D%3D?line=58'>59</a>\u001b[0m         c \u001b[39m=\u001b[39m \u001b[39mlen\u001b[39m(\u001b[39mmin\u001b[39m(a,b))\n\u001b[0;32m     <a href='vscode-notebook-cell:/c%3A/Users/keplarV4/Downloads/ML_Models/Nerual%20Network%20-%20Matrix.ipynb#X20sZmlsZQ%3D%3D?line=59'>60</a>\u001b[0m         d \u001b[39m=\u001b[39m \u001b[39mlen\u001b[39m(\u001b[39mmax\u001b[39m(a,b))\n\u001b[1;32m---> <a href='vscode-notebook-cell:/c%3A/Users/keplarV4/Downloads/ML_Models/Nerual%20Network%20-%20Matrix.ipynb#X20sZmlsZQ%3D%3D?line=60'>61</a>\u001b[0m         np\u001b[39m.\u001b[39mdot(listNodes[i],w)\n\u001b[0;32m     <a href='vscode-notebook-cell:/c%3A/Users/keplarV4/Downloads/ML_Models/Nerual%20Network%20-%20Matrix.ipynb#X20sZmlsZQ%3D%3D?line=61'>62</a>\u001b[0m         i\u001b[39m=\u001b[39m\u001b[39m+\u001b[39m\u001b[39m1\u001b[39m\n\u001b[0;32m     <a href='vscode-notebook-cell:/c%3A/Users/keplarV4/Downloads/ML_Models/Nerual%20Network%20-%20Matrix.ipynb#X20sZmlsZQ%3D%3D?line=63'>64</a>\u001b[0m \u001b[39mreturn\u001b[39;00m \u001b[39m1\u001b[39m\n",
      "File \u001b[1;32m~\\AppData\\Roaming\\Python\\Python311\\site-packages\\debugpy\\_vendored\\pydevd\\_pydevd_bundle\\pydevd_frame.py:1197\u001b[0m, in \u001b[0;36mPyDBFrame.trace_dispatch\u001b[1;34m(self, frame, event, arg)\u001b[0m\n\u001b[0;32m   1195\u001b[0m \u001b[39mif\u001b[39;00m is_line:\n\u001b[0;32m   1196\u001b[0m     \u001b[39mself\u001b[39m\u001b[39m.\u001b[39mset_suspend(thread, step_cmd, original_step_cmd\u001b[39m=\u001b[39minfo\u001b[39m.\u001b[39mpydev_original_step_cmd)\n\u001b[1;32m-> 1197\u001b[0m     \u001b[39mself\u001b[39;49m\u001b[39m.\u001b[39;49mdo_wait_suspend(thread, frame, event, arg)\n\u001b[0;32m   1198\u001b[0m \u001b[39melif\u001b[39;00m is_return:  \u001b[39m# return event\u001b[39;00m\n\u001b[0;32m   1199\u001b[0m     back \u001b[39m=\u001b[39m frame\u001b[39m.\u001b[39mf_back\n",
      "File \u001b[1;32m~\\AppData\\Roaming\\Python\\Python311\\site-packages\\debugpy\\_vendored\\pydevd\\_pydevd_bundle\\pydevd_frame.py:165\u001b[0m, in \u001b[0;36mPyDBFrame.do_wait_suspend\u001b[1;34m(self, *args, **kwargs)\u001b[0m\n\u001b[0;32m    164\u001b[0m \u001b[39mdef\u001b[39;00m \u001b[39mdo_wait_suspend\u001b[39m(\u001b[39mself\u001b[39m, \u001b[39m*\u001b[39margs, \u001b[39m*\u001b[39m\u001b[39m*\u001b[39mkwargs):\n\u001b[1;32m--> 165\u001b[0m     \u001b[39mself\u001b[39;49m\u001b[39m.\u001b[39;49m_args[\u001b[39m0\u001b[39;49m]\u001b[39m.\u001b[39;49mdo_wait_suspend(\u001b[39m*\u001b[39;49margs, \u001b[39m*\u001b[39;49m\u001b[39m*\u001b[39;49mkwargs)\n",
      "File \u001b[1;32m~\\AppData\\Roaming\\Python\\Python311\\site-packages\\debugpy\\_vendored\\pydevd\\pydevd.py:2070\u001b[0m, in \u001b[0;36mPyDB.do_wait_suspend\u001b[1;34m(self, thread, frame, event, arg, exception_type)\u001b[0m\n\u001b[0;32m   2067\u001b[0m             from_this_thread\u001b[39m.\u001b[39mappend(frame_custom_thread_id)\n\u001b[0;32m   2069\u001b[0m     \u001b[39mwith\u001b[39;00m \u001b[39mself\u001b[39m\u001b[39m.\u001b[39m_threads_suspended_single_notification\u001b[39m.\u001b[39mnotify_thread_suspended(thread_id, thread, stop_reason):\n\u001b[1;32m-> 2070\u001b[0m         keep_suspended \u001b[39m=\u001b[39m \u001b[39mself\u001b[39;49m\u001b[39m.\u001b[39;49m_do_wait_suspend(thread, frame, event, arg, suspend_type, from_this_thread, frames_tracker)\n\u001b[0;32m   2072\u001b[0m frames_list \u001b[39m=\u001b[39m \u001b[39mNone\u001b[39;00m\n\u001b[0;32m   2074\u001b[0m \u001b[39mif\u001b[39;00m keep_suspended:\n\u001b[0;32m   2075\u001b[0m     \u001b[39m# This means that we should pause again after a set next statement.\u001b[39;00m\n",
      "File \u001b[1;32m~\\AppData\\Roaming\\Python\\Python311\\site-packages\\debugpy\\_vendored\\pydevd\\pydevd.py:2106\u001b[0m, in \u001b[0;36mPyDB._do_wait_suspend\u001b[1;34m(self, thread, frame, event, arg, suspend_type, from_this_thread, frames_tracker)\u001b[0m\n\u001b[0;32m   2103\u001b[0m         \u001b[39mself\u001b[39m\u001b[39m.\u001b[39m_call_input_hook()\n\u001b[0;32m   2105\u001b[0m     \u001b[39mself\u001b[39m\u001b[39m.\u001b[39mprocess_internal_commands()\n\u001b[1;32m-> 2106\u001b[0m     time\u001b[39m.\u001b[39msleep(\u001b[39m0.01\u001b[39m)\n\u001b[0;32m   2108\u001b[0m \u001b[39mself\u001b[39m\u001b[39m.\u001b[39mcancel_async_evaluation(get_current_thread_id(thread), \u001b[39mstr\u001b[39m(\u001b[39mid\u001b[39m(frame)))\n\u001b[0;32m   2110\u001b[0m \u001b[39m# process any stepping instructions\u001b[39;00m\n",
      "\u001b[1;31mKeyboardInterrupt\u001b[0m: "
     ]
    }
   ],
   "source": [
    "xs = [\n",
    "  [0, 0, 0],\n",
    "  [0, 0, 1],\n",
    "  [0, 1, 0],\n",
    "  [0, 1, 1],\n",
    "  [1, 0, 0],\n",
    "  [1, 0, 1],\n",
    "  [1, 1, 0],\n",
    "  [1, 1, 1],\n",
    "]\n",
    "ys = [[0],[0],[0],[1],[1],[0],[0],[1]] # desired targets\n",
    "\n",
    "ANDgateModel.forwardProp([0,0,1],[0])\n",
    "# xy = ANDgateModel.train(xs, ys, 0.1, 2000)\n",
    "\n",
    "# # Separate the loss and time values\n",
    "# x = [obj[1] for obj in xy]  # time values\n",
    "# y = [obj[0] for obj in xy]  # loss values\n",
    "\n",
    "# # Create the plot\n",
    "# fig, axs = plt.subplots(figsize=(5, 5))  # no need to specify 1, 1 for a single plot\n",
    "# axs.set_title('Training Loss Graph')\n",
    "# axs.set_ylabel('% error')\n",
    "# axs.set_xlabel('time in mili-second')\n",
    "# axs.plot(x, y)\n",
    "# plt.show()\n"
   ]
  }
 ],
 "metadata": {
  "kernelspec": {
   "display_name": "Python 3",
   "language": "python",
   "name": "python3"
  },
  "language_info": {
   "codemirror_mode": {
    "name": "ipython",
    "version": 3
   },
   "file_extension": ".py",
   "mimetype": "text/x-python",
   "name": "python",
   "nbconvert_exporter": "python",
   "pygments_lexer": "ipython3",
   "version": "3.11.4"
  }
 },
 "nbformat": 4,
 "nbformat_minor": 2
}
